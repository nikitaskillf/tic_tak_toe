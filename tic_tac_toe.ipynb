{
 "cells": [
  {
   "cell_type": "code",
   "execution_count": null,
   "metadata": {},
   "outputs": [
    {
     "name": "stdout",
     "output_type": "stream",
     "text": [
      "=======\n",
      "  0 1 2\n",
      "0 - - -\n",
      "1 - - -\n",
      "2 - - -\n",
      "=======\n",
      "\n",
      "Ход № 1\n",
      "Ходит игрок 'X'\n"
     ]
    }
   ],
   "source": [
    "def number_to_sign(num):\n",
    "    \"\"\"\n",
    "    Функция приводит входящий параметр к символу, для вывода в поле игры\n",
    "        Параметры:\n",
    "                    num(int or None or set)\n",
    "        Возвращаемое значение:\n",
    "                    'o', 'x', '-'\n",
    "    \"\"\"\n",
    "    # входящий параметр может быть множеством, если так, то берём первый элемент множества\n",
    "    buffer = num if type(num) != set else list(num)[0]\n",
    "\n",
    "    if buffer == 0:\n",
    "        return 'o'\n",
    "    elif buffer == 1:\n",
    "        return 'x'\n",
    "\n",
    "    return '-'\n",
    "\n",
    "\n",
    "def print_field(data):\n",
    "    \"\"\"\n",
    "    Функция выводит на экран консоли текущие ходы в игре\n",
    "        Параметры:\n",
    "                    data(list)\n",
    "    \"\"\"\n",
    "    print('=======')\n",
    "    print('  0 1 2')\n",
    "    print('0 {0} {1} {2}'.format(*map(number_to_sign, data[0])))\n",
    "    print('1 {0} {1} {2}'.format(*map(number_to_sign, data[1])))\n",
    "    print('2 {0} {1} {2}'.format(*map(number_to_sign, data[2])))\n",
    "    print('=======')\n",
    "\n",
    "\n",
    "def check_winner(data):\n",
    "    \"\"\"\n",
    "    Функция определяет наличие победителя\n",
    "        Параметры:\n",
    "                    data (list): матрица 3х3\n",
    "        Возвращаемое значение:\n",
    "                    result: 'o', 'x', '-'\n",
    "    \"\"\"\n",
    "\n",
    "    # диагональ от верхнего левого, до нижнего правого\n",
    "    diagonal_ltop_rbottom = []\n",
    "\n",
    "    # диагональ от нижнего левого, до верхнего правого\n",
    "    diagonal_lbottom_rtop = []\n",
    "\n",
    "    #\n",
    "    for idx_col in range(len(data)):\n",
    "        col_winner = set([])\n",
    "        row_winner = set(data[idx_col])  # множество по строке\n",
    "\n",
    "        # формируем списки по диагоналям\n",
    "        diagonal_ltop_rbottom.append(data[idx_col][idx_col])\n",
    "        diagonal_lbottom_rtop.append(data[2 - idx_col][idx_col])\n",
    "\n",
    "        # формируем множество по колонке\n",
    "        for idx_row in range(len(data)):\n",
    "            col_winner.add(data[idx_row][idx_col])\n",
    "\n",
    "        # проверка построчно\n",
    "        if len(row_winner) == 1:\n",
    "            return number_to_sign(row_winner)\n",
    "        # проверка по колонке\n",
    "        if len(col_winner) == 1:\n",
    "            return number_to_sign(col_winner)\n",
    "\n",
    "    # проверка по диагоналям\n",
    "    diagonal_winner = set(diagonal_ltop_rbottom)\n",
    "    if len(diagonal_winner) == 1:\n",
    "        return number_to_sign(diagonal_winner)\n",
    "    diagonal_winner = set(diagonal_lbottom_rtop)\n",
    "    if len(diagonal_winner) == 1:\n",
    "        return number_to_sign(diagonal_winner)\n",
    "\n",
    "    # если победителя нет, то возвращаем '-'\n",
    "    return '-'\n",
    "\n",
    "\n",
    "def filter_func(value):\n",
    "    \"\"\"\n",
    "    Функция фильтрации. Проверка на подходящие для хода значения - ['0','1','2']\n",
    "        Параметры:\n",
    "                    value (string): елемент последовательности\n",
    "        Возвращаемое значение:\n",
    "                    True or False\n",
    "    \"\"\"\n",
    "    return value in set(['0', '1', '2'])\n",
    "\n",
    "\n",
    "def check_player_move(move, current_field):\n",
    "    \"\"\"\n",
    "    Функция проверяет, правильность введённых с клавиатуры значений\n",
    "        Параметры:\n",
    "                    move (string): номер строки и номер столбца (введённые с клавиатуры)\n",
    "                    current_field (list): матрица 3х3 - содержит ходы игроков\n",
    "        Возвращаемое значение:\n",
    "                    True or False\n",
    "    \"\"\"\n",
    "    print()\n",
    "    print('-------')\n",
    "    buffer = list(filter(filter_func, move))\n",
    "\n",
    "    # проверка корректности ввода с клавиатуры\n",
    "    if len(buffer) != 2:\n",
    "        print('Введены неверные данные. Повторите свой ход.')\n",
    "        return False\n",
    "    # проверка на возможность хода в данную ячейку поля\n",
    "    if current_field[int(buffer[0])][int(buffer[1])] is not None:\n",
    "        print('В данную ячейку уже был совершён ход. Повторите свой ход.')\n",
    "        return False\n",
    "\n",
    "    return True\n",
    "\n",
    "\n",
    "def set_player_move(move, player, current_field):\n",
    "    \"\"\"\n",
    "    Функция вносит ход игрока в матрицу\n",
    "        Параметры:\n",
    "                    move (string): номер строки и номер столбца (введённые с клавиатуры)\n",
    "                    player (string): игрок выполнивший ход 'x' или 'o'\n",
    "                    current_field (list): матрица 3х3 - содержит ходы игроков\n",
    "    \"\"\"\n",
    "    buffer = list(filter(filter_func, move))\n",
    "\n",
    "    # копируем матрицу ходов (т.к. мы не должны менять входящие параметры. Принципы Ф.П.)\n",
    "    copy_field = [current_field[0].copy(), current_field[1].copy(), current_field[2].copy()]\n",
    "    copy_field[int(buffer[0])][int(buffer[1])] = 1 if player == 'x' else 0\n",
    "    return copy_field\n",
    "\n",
    "def start_game():\n",
    "    \"\"\"\n",
    "    Функция запуска игры\n",
    "    \"\"\"\n",
    "    \n",
    "    # матрица 3х3 - содержит ходы игроков\n",
    "    data_field = list([list([None, None, None]), list([None, None, None]), list([None, None, None])])\n",
    "\n",
    "    print_field(data_field)\n",
    "\n",
    "    current_player = 'x'\n",
    "    current_move = 0\n",
    "\n",
    "    while check_winner(data_field) == '-' and current_move <= 8:\n",
    "        print()\n",
    "        print(\"\"\"Ход № {0}\"\"\".format(current_move + 1))\n",
    "        print(\"\"\"Ходит игрок '{0}'\"\"\".format(current_player.upper()))\n",
    "        player_move = input('Введите через пробел номер строки и номер столбца')\n",
    "        if check_player_move(player_move, data_field):\n",
    "            data_field = set_player_move(player_move, current_player, data_field)\n",
    "            print_field(data_field)\n",
    "            current_move += 1\n",
    "            current_player = 'o' if current_player == 'x' else 'x'\n",
    "\n",
    "    winner = check_winner(data_field)\n",
    "\n",
    "    if winner == '-' and current_move > 8:\n",
    "        print('НИЧЬЯ!')\n",
    "    elif winner == 'x':\n",
    "        print(\"\"\"ПОБЕДИЛ ИГРОК 'X'!\"\"\")\n",
    "    else:\n",
    "        print(\"\"\"ПОБЕДИЛ ИГРОК 'O'!\"\"\")\n",
    "\n",
    "start_game()"
   ]
  },
  {
   "cell_type": "code",
   "execution_count": 19,
   "metadata": {},
   "outputs": [
    {
     "data": {
      "text/plain": [
       "1"
      ]
     },
     "execution_count": 19,
     "metadata": {},
     "output_type": "execute_result"
    }
   ],
   "source": [
    "list([list([0,1,0]), list([1,0,0]), list([1,1,0])])[0][1]"
   ]
  },
  {
   "cell_type": "code",
   "execution_count": 40,
   "metadata": {},
   "outputs": [
    {
     "data": {
      "text/plain": [
       "1"
      ]
     },
     "execution_count": 40,
     "metadata": {},
     "output_type": "execute_result"
    }
   ],
   "source": [
    "list(set([0,1]))[1]"
   ]
  },
  {
   "cell_type": "code",
   "execution_count": 6,
   "metadata": {},
   "outputs": [
    {
     "data": {
      "text/plain": [
       "set"
      ]
     },
     "execution_count": 6,
     "metadata": {},
     "output_type": "execute_result"
    }
   ],
   "source": [
    "type(set([]))"
   ]
  }
 ],
 "metadata": {
  "kernelspec": {
   "display_name": "Python 3",
   "language": "python",
   "name": "python3"
  },
  "language_info": {
   "codemirror_mode": {
    "name": "ipython",
    "version": 3
   },
   "file_extension": ".py",
   "mimetype": "text/x-python",
   "name": "python",
   "nbconvert_exporter": "python",
   "pygments_lexer": "ipython3",
   "version": "3.8.5"
  }
 },
 "nbformat": 4,
 "nbformat_minor": 4
}
